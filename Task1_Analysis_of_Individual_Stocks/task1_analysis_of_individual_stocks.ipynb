{
 "cells": [
  {
   "cell_type": "markdown",
   "id": "2e21c15f",
   "metadata": {},
   "source": [
    "# Task 1 Analysis of Individual Stocks"
   ]
  },
  {
   "cell_type": "code",
   "execution_count": null,
   "id": "0267502f",
   "metadata": {},
   "outputs": [],
   "source": [
    "import pandas as pd\n",
    "import numpy as np\n",
    "import seaborn as sns\n",
    "import matplotlib.pyplot as plt\n",
    "import datetime as dt\n",
    "from pandas_datareader import data as pdr\n",
    "import yfinance as yf\n",
    "from scipy.optimize import minimize"
   ]
  },
  {
   "cell_type": "code",
   "execution_count": null,
   "id": "d5a01647",
   "metadata": {},
   "outputs": [],
   "source": [
    "# Define the list of stocks and the date range for analysis\n",
    "stock_list = ['AAPL', 'GOOGL', 'META', 'AMD',  'MSFT']\n",
    "end_date = dt.datetime.now()\n",
    "start_date = end_date - dt.timedelta(days=1200)\n",
    "\n",
    "# Use yfinance to download stock data in bulk\n",
    "data = yf.download(stock_list, start=start_date, end=end_date)\n",
    "print(data.head())"
   ]
  },
  {
   "cell_type": "markdown",
   "id": "1aaa8f9e",
   "metadata": {},
   "source": [
    "### 1.1 Trend Analysis"
   ]
  },
  {
   "cell_type": "code",
   "execution_count": null,
   "id": "03ccafd9",
   "metadata": {},
   "outputs": [],
   "source": [
    "# Plotting the adjusted close prices\n",
    "plt.figure(figsize=(18, 10))\n",
    "for c in data['Adj Close'].columns.values:\n",
    "    plt.plot(data['Adj Close'][c], label=c)\n",
    "\n",
    "plt.title('Adjusted Close Price')\n",
    "plt.xlabel('Date')\n",
    "plt.ylabel('Adjusted Close Price USD ($)')\n",
    "plt.legend(data['Adj Close'].columns.values, loc='upper left')\n",
    "plt.show()\n"
   ]
  },
  {
   "cell_type": "markdown",
   "id": "0290f1d1",
   "metadata": {},
   "source": [
    "### 1.2 Moving Averages\n",
    "\n",
    "Calculating moving averages is an essential part of technical analysis. They can help identify trends by smoothing out the noise from random price fluctuations. \n",
    "\n",
    "Simple Moving Averages (SMAs): These are used to smooth out price data to identify the trend direction over different time frames. The SMAs on the chart represent averages over 10, 50, and 150 days, indicating short-term, medium-term, and long-term trends respectively.\n",
    "\n",
    "The 10-Day SMA is the average of the adjusted closing prices over the last 10 days. It's very responsive to daily price changes, which makes it a good indicator of immediate trend direction but also more susceptible to false signals due to its sensitivity.\n",
    "\n",
    "The 50-Day SMA is a more balanced view, smoothing out the price data over a longer period. It's less sensitive to daily price movements and provides a clearer view of the mid-term trend.\n",
    "\n",
    "The 150-Day SMA gives a broad overview of the long-term market trend, significantly reducing the 'noise' from short-term price fluctuations.\n",
    "\n",
    "When the short-term SMA (10-day) crosses above a longer-term SMA (50-day or 150-day), it's typically considered a bullish signal, suggesting an uptrend.\n",
    "\n",
    "Conversely, if the short-term SMA crosses below a longer-term SMA, it could indicate a bearish signal or a potential downtrend.\n",
    "\n",
    "The distance between the SMAs can also indicate the strength of a trend. Wider gaps may suggest stronger trends, while narrower ones may suggest weakening trends or periods of consolidation.\n",
    "\n",
    "The adjusted close price is depicted with a light transparency, allowing us to focus on the moving averages while still observing the actual price movements.\n",
    "\n",
    "In this chart, we can see instances where the SMAs cross over each other. These points can be significant for traders who use these signals to make buy or sell decisions.\n",
    "\n",
    "The chart also shows periods where the price deviates significantly from the SMAs, which might attract traders looking for reversion to the mean trading opportunities.\n"
   ]
  },
  {
   "cell_type": "code",
   "execution_count": null,
   "id": "b8ce5337",
   "metadata": {},
   "outputs": [],
   "source": [
    "# AAPL's Adjusted Close data is extracted from the 'data' DataFrame\n",
    "AAPL_data = data['Adj Close']['AAPL']\n",
    "\n",
    "# Calculate Simple Moving Averages for 10, 50, and 150 days\n",
    "AAPL_sma10 = AAPL_data.rolling(window=10).mean()\n",
    "AAPL_sma50 = AAPL_data.rolling(window=50).mean()\n",
    "AAPL_sma150 = AAPL_data.rolling(window=150).mean()\n",
    "\n",
    "\n",
    "# Create a plot with a specified figure size\n",
    "plt.figure(figsize=(18, 10))\n",
    "\n",
    "# Plot the Adjusted Close Price and the SMAs with different alpha values for visibility\n",
    "plt.plot(AAPL_data, label='AAPL Adjusted Close', alpha=0.25)\n",
    "plt.plot(AAPL_sma10, label='10-Day SMA', alpha=0.75)\n",
    "plt.plot(AAPL_sma50, label='50-Day SMA', alpha=1)\n",
    "plt.plot(AAPL_sma150, label='150-Day SMA', alpha=1)\n",
    "\n",
    "# Add title and labels to the plot\n",
    "plt.title('AAPL Adjusted Close Price and Moving Averages')\n",
    "plt.xlabel('Date')\n",
    "plt.ylabel('Adjusted Close Price USD ($)')\n",
    "\n",
    "# Add a legend to the upper left corner of the plot\n",
    "plt.legend(loc='upper left')\n",
    "\n",
    "# Display the plot\n",
    "plt.show()\n"
   ]
  },
  {
   "cell_type": "code",
   "execution_count": null,
   "id": "edad3e56",
   "metadata": {},
   "outputs": [],
   "source": [
    "### Function to Plot Adjusted Close Prices and Moving Averages for Any Stock:\n",
    "\n",
    "def plot_stock_with_sma(stock_ticker, data, windows=[10, 50, 150]):\n",
    "    \"\"\"\n",
    "    Plot the Adjusted Close prices for a given stock and its Simple Moving Averages.\n",
    "    \n",
    "    Parameters:\n",
    "        stock_ticker (str): The stock ticker symbol.\n",
    "        data (DataFrame): The DataFrame containing the stock's historical data.\n",
    "        windows (list of int): The list of time windows to calculate SMAs for.\n",
    "    \"\"\"\n",
    "    # Get the Adjusted Close data for the given stock ticker\n",
    "    stock_data = data['Adj Close'][stock_ticker]\n",
    "    \n",
    "    # Initialize the plot\n",
    "    plt.figure(figsize=(18, 10))\n",
    "    \n",
    "    # Plot the Adjusted Close price\n",
    "    plt.plot(stock_data, label=f'{stock_ticker} Adjusted Close', alpha=0.25)\n",
    "    \n",
    "    # Calculate and plot SMAs for the specified windows\n",
    "    for window in windows:\n",
    "        sma = stock_data.rolling(window=window).mean()\n",
    "        plt.plot(sma, label=f'{window}-Day SMA', alpha=0.75)\n",
    "    \n",
    "    # Add title and labels\n",
    "    plt.title(f'{stock_ticker} Adjusted Close Price and Moving Averages')\n",
    "    plt.xlabel('Date')\n",
    "    plt.ylabel('Adjusted Close Price USD ($)')\n",
    "    \n",
    "    # Show the legend\n",
    "    plt.legend(loc='upper left')\n",
    "    \n",
    "    # Display the plot\n",
    "    plt.show\n",
    "\n",
    "# Loop through each stock in the stock list and plot the adjusted close prices and SMAs\n",
    "for stock in stock_list:\n",
    "    plot_stock_with_sma(stock_ticker=stock, data=data)"
   ]
  },
  {
   "cell_type": "markdown",
   "id": "abbea0c0",
   "metadata": {},
   "source": [
    "### 1.3 Returns and Volatility"
   ]
  },
  {
   "cell_type": "code",
   "execution_count": null,
   "id": "388c630f",
   "metadata": {},
   "outputs": [],
   "source": [
    "# Calculate daily returns for each stock\n",
    "daily_returns = data['Adj Close'].pct_change()\n",
    "\n",
    "# Calculate cumulative returns\n",
    "cumulative_returns = (1 + daily_returns).cumprod() - 1\n",
    "\n",
    "# Plot cumulative returns for each stock - the growth of a dollar invested over time\n",
    "cumulative_returns.plot(figsize=(18, 10))\n",
    "plt.title('Cumulative Returns over Time')\n",
    "plt.xlabel('Date')\n",
    "plt.ylabel('Cumulative Return')\n",
    "plt.legend()\n",
    "plt.show()\n",
    "\n"
   ]
  },
  {
   "cell_type": "code",
   "execution_count": null,
   "id": "3fa46d84",
   "metadata": {},
   "outputs": [],
   "source": [
    "# Volatility analysis - calculate and plot standard deviation of daily returns\n",
    "\n",
    "# Standard deviation is used to measure the daily volatility of the stock returns.\n",
    "\n",
    "# Annualizing the standard deviation - Multiplying by the square root of 252 (the typical number of trading days in a year) \n",
    "volatility = daily_returns.std() * np.sqrt(252)\n",
    "\n",
    "# Printing the volatility gives a quick overview of the risk profile of each stock\n",
    "print(\"Volatility:\")\n",
    "print(volatility)\n",
    "\n",
    "# Plotting volatility in a bar chart for better visual comparison\n",
    "plt.figure(figsize=(12, 6))\n",
    "volatility.plot(kind='bar')\n",
    "plt.title('Daily Returns Volatility')\n",
    "plt.ylabel('Standard Deviation')\n",
    "plt.xlabel('Stocks')\n",
    "plt.xticks(rotation=45)\n",
    "plt.show()\n"
   ]
  },
  {
   "cell_type": "code",
   "execution_count": null,
   "id": "c5d4ecac",
   "metadata": {},
   "outputs": [],
   "source": [
    "# Risk-Free Rate Calculation\n",
    "tnx = yf.Ticker(\"^IRX\")\n",
    "tnx_data = tnx.history(period=\"1mo\")\n",
    "risk_free_rate = tnx_data['Close'].mean() / 100  # Convert to percentage\n",
    "print(f\"The average risk-free rate over the past month is: {risk_free_rate}\")"
   ]
  },
  {
   "cell_type": "code",
   "execution_count": null,
   "id": "0d4520b5",
   "metadata": {},
   "outputs": [],
   "source": [
    "# Sharpe Ratio Calculation\n",
    "annualized_returns = daily_returns.mean() * 252\n",
    "sharpe_ratio = (annualized_returns - risk_free_rate) / volatility\n",
    "print(\"\\nSharpe Ratio:\\n\", sharpe_ratio)"
   ]
  },
  {
   "cell_type": "markdown",
   "id": "dfe96ac0",
   "metadata": {},
   "source": [
    "### 1.4 S&P 500 Comparison"
   ]
  },
  {
   "cell_type": "code",
   "execution_count": null,
   "id": "fa9d3159",
   "metadata": {},
   "outputs": [],
   "source": [
    "# Download historical data for S&P 500\n",
    "sp500 = yf.download('^GSPC', start=start_date, end=end_date)['Adj Close']\n",
    "\n",
    "# Calculate daily and cumulative returns for S&P 500\n",
    "sp500_daily_returns = sp500.pct_change()\n",
    "#daily_returns['S&P 500'] = sp500_daily_returns  # Adding S&P 500 returns for correlation analysis\n",
    "cumulative_returns = (1 + daily_returns).cumprod() - 1  # Recalculate with S&P 500 included\n",
    "sp500_cumulative_returns = (1 + sp500_daily_returns).cumprod() - 1 \n",
    "\n",
    "# Plot cumulative returns for each stock against S&P 500\n",
    "cumulative_returns.plot(figsize=(12, 6),alpha=0.8)\n",
    "plt.plot(sp500_cumulative_returns, label='S&P 500', color='black', linestyle='--')\n",
    "plt.title('Cumulative Returns vs. S&P 500')\n",
    "plt.legend()\n",
    "plt.show()"
   ]
  },
  {
   "cell_type": "code",
   "execution_count": null,
   "id": "a97e53c6",
   "metadata": {},
   "outputs": [],
   "source": [
    "# Correlation Matrix\n",
    "daily_returns['S&P 500'] = sp500_daily_returns\n",
    "correlation_matrix = daily_returns.corr()\n",
    "print(\"\\nCorrelation with S&P 500:\\n\", correlation_matrix['S&P 500'])\n",
    "\n",
    "plt.figure(figsize=(12, 8))\n",
    "sns.heatmap(correlation_matrix, annot=True, cmap='coolwarm', fmt=\".2f\")\n",
    "plt.title('Correlation Matrix')\n",
    "plt.show()\n",
    "\n",
    "# Covariance Matrix\n",
    "covariance_matrix = daily_returns.cov()\n",
    "print(\"\\nCovariance Matrix including S&P 500:\\n\", covariance_matrix)"
   ]
  },
  {
   "cell_type": "code",
   "execution_count": null,
   "id": "0b058c44",
   "metadata": {},
   "outputs": [],
   "source": [
    "# Beta Analysis\n",
    "cov_with_sp500 = covariance_matrix['S&P 500']\n",
    "variance_sp500 = sp500_daily_returns.var()\n",
    "beta = cov_with_sp500 / variance_sp500\n",
    "print(\"\\nBeta Coefficients:\\n\", beta)"
   ]
  }
 ],
 "metadata": {
  "interpreter": {
   "hash": "9892fb268be1323c3c6aa3dfd4dc466cc44cc3b1400a3cc91b9fc119e05fbd35"
  },
  "kernelspec": {
   "display_name": "Python 3.7.11 ('da')",
   "language": "python",
   "name": "python3"
  },
  "language_info": {
   "codemirror_mode": {
    "name": "ipython",
    "version": 3
   },
   "file_extension": ".py",
   "mimetype": "text/x-python",
   "name": "python",
   "nbconvert_exporter": "python",
   "pygments_lexer": "ipython3",
   "version": "3.7.11"
  }
 },
 "nbformat": 4,
 "nbformat_minor": 5
}
